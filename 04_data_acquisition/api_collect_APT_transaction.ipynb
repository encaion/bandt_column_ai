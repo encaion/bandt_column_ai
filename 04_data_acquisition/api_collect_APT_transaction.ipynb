{
 "cells": [
  {
   "cell_type": "code",
   "execution_count": 2,
   "metadata": {},
   "outputs": [],
   "source": [
    "import requests\n",
    "from bs4 import BeautifulSoup\n",
    "import pandas as pd"
   ]
  },
  {
   "cell_type": "markdown",
   "metadata": {},
   "source": [
    "법정동코드 전체자료는 [행정표준관리시스템](https://www.code.go.kr/stdcode/regCodeL.do) 에서 압축파일을 다운받을 수 있다. <br>\n",
    "Pandas의 read_csv() 함수는 zip 압축파일을 곧바로 읽어올 수 있으며, \\t는 \\[tab\\]을 뜻한다."
   ]
  },
  {
   "cell_type": "code",
   "execution_count": 2,
   "metadata": {},
   "outputs": [
    {
     "data": {
      "text/html": [
       "<div>\n",
       "<style scoped>\n",
       "    .dataframe tbody tr th:only-of-type {\n",
       "        vertical-align: middle;\n",
       "    }\n",
       "\n",
       "    .dataframe tbody tr th {\n",
       "        vertical-align: top;\n",
       "    }\n",
       "\n",
       "    .dataframe thead th {\n",
       "        text-align: right;\n",
       "    }\n",
       "</style>\n",
       "<table border=\"1\" class=\"dataframe\">\n",
       "  <thead>\n",
       "    <tr style=\"text-align: right;\">\n",
       "      <th></th>\n",
       "      <th>법정동코드</th>\n",
       "      <th>법정동명</th>\n",
       "      <th>폐지여부</th>\n",
       "    </tr>\n",
       "  </thead>\n",
       "  <tbody>\n",
       "    <tr>\n",
       "      <td>0</td>\n",
       "      <td>1100000000</td>\n",
       "      <td>서울특별시</td>\n",
       "      <td>존재</td>\n",
       "    </tr>\n",
       "    <tr>\n",
       "      <td>1</td>\n",
       "      <td>1111000000</td>\n",
       "      <td>서울특별시 종로구</td>\n",
       "      <td>존재</td>\n",
       "    </tr>\n",
       "    <tr>\n",
       "      <td>2</td>\n",
       "      <td>1111010100</td>\n",
       "      <td>서울특별시 종로구 청운동</td>\n",
       "      <td>존재</td>\n",
       "    </tr>\n",
       "    <tr>\n",
       "      <td>3</td>\n",
       "      <td>1111010200</td>\n",
       "      <td>서울특별시 종로구 신교동</td>\n",
       "      <td>존재</td>\n",
       "    </tr>\n",
       "    <tr>\n",
       "      <td>4</td>\n",
       "      <td>1111010300</td>\n",
       "      <td>서울특별시 종로구 궁정동</td>\n",
       "      <td>존재</td>\n",
       "    </tr>\n",
       "  </tbody>\n",
       "</table>\n",
       "</div>"
      ],
      "text/plain": [
       "        법정동코드           법정동명 폐지여부\n",
       "0  1100000000          서울특별시   존재\n",
       "1  1111000000      서울특별시 종로구   존재\n",
       "2  1111010100  서울특별시 종로구 청운동   존재\n",
       "3  1111010200  서울특별시 종로구 신교동   존재\n",
       "4  1111010300  서울특별시 종로구 궁정동   존재"
      ]
     },
     "execution_count": 2,
     "metadata": {},
     "output_type": "execute_result"
    }
   ],
   "source": [
    "df_cd = pd.read_csv(\"법정동코드 전체자료.zip\", sep = \"\\t\", encoding = \"CP949\")\n",
    "df_cd.head()"
   ]
  },
  {
   "cell_type": "markdown",
   "metadata": {},
   "source": [
    "폐지여부 변수에 어떤 값이, 얼마나 있는지 확인"
   ]
  },
  {
   "cell_type": "code",
   "execution_count": 3,
   "metadata": {},
   "outputs": [
    {
     "data": {
      "text/html": [
       "<div>\n",
       "<style scoped>\n",
       "    .dataframe tbody tr th:only-of-type {\n",
       "        vertical-align: middle;\n",
       "    }\n",
       "\n",
       "    .dataframe tbody tr th {\n",
       "        vertical-align: top;\n",
       "    }\n",
       "\n",
       "    .dataframe thead th {\n",
       "        text-align: right;\n",
       "    }\n",
       "</style>\n",
       "<table border=\"1\" class=\"dataframe\">\n",
       "  <thead>\n",
       "    <tr style=\"text-align: right;\">\n",
       "      <th></th>\n",
       "      <th>index</th>\n",
       "      <th>폐지여부</th>\n",
       "    </tr>\n",
       "  </thead>\n",
       "  <tbody>\n",
       "    <tr>\n",
       "      <td>0</td>\n",
       "      <td>폐지</td>\n",
       "      <td>25565</td>\n",
       "    </tr>\n",
       "    <tr>\n",
       "      <td>1</td>\n",
       "      <td>존재</td>\n",
       "      <td>20542</td>\n",
       "    </tr>\n",
       "  </tbody>\n",
       "</table>\n",
       "</div>"
      ],
      "text/plain": [
       "  index   폐지여부\n",
       "0    폐지  25565\n",
       "1    존재  20542"
      ]
     },
     "execution_count": 3,
     "metadata": {},
     "output_type": "execute_result"
    }
   ],
   "source": [
    "df_cd[\"폐지여부\"].value_counts().to_frame().reset_index()"
   ]
  },
  {
   "cell_type": "markdown",
   "metadata": {},
   "source": [
    "현재 사용하는(존재)만 필터링 하여 남긴다."
   ]
  },
  {
   "cell_type": "code",
   "execution_count": 4,
   "metadata": {},
   "outputs": [
    {
     "data": {
      "text/html": [
       "<div>\n",
       "<style scoped>\n",
       "    .dataframe tbody tr th:only-of-type {\n",
       "        vertical-align: middle;\n",
       "    }\n",
       "\n",
       "    .dataframe tbody tr th {\n",
       "        vertical-align: top;\n",
       "    }\n",
       "\n",
       "    .dataframe thead th {\n",
       "        text-align: right;\n",
       "    }\n",
       "</style>\n",
       "<table border=\"1\" class=\"dataframe\">\n",
       "  <thead>\n",
       "    <tr style=\"text-align: right;\">\n",
       "      <th></th>\n",
       "      <th>법정동코드</th>\n",
       "      <th>법정동명</th>\n",
       "      <th>폐지여부</th>\n",
       "    </tr>\n",
       "  </thead>\n",
       "  <tbody>\n",
       "    <tr>\n",
       "      <td>0</td>\n",
       "      <td>1100000000</td>\n",
       "      <td>서울특별시</td>\n",
       "      <td>존재</td>\n",
       "    </tr>\n",
       "    <tr>\n",
       "      <td>1</td>\n",
       "      <td>1111000000</td>\n",
       "      <td>서울특별시 종로구</td>\n",
       "      <td>존재</td>\n",
       "    </tr>\n",
       "    <tr>\n",
       "      <td>2</td>\n",
       "      <td>1111010100</td>\n",
       "      <td>서울특별시 종로구 청운동</td>\n",
       "      <td>존재</td>\n",
       "    </tr>\n",
       "    <tr>\n",
       "      <td>3</td>\n",
       "      <td>1111010200</td>\n",
       "      <td>서울특별시 종로구 신교동</td>\n",
       "      <td>존재</td>\n",
       "    </tr>\n",
       "    <tr>\n",
       "      <td>4</td>\n",
       "      <td>1111010300</td>\n",
       "      <td>서울특별시 종로구 궁정동</td>\n",
       "      <td>존재</td>\n",
       "    </tr>\n",
       "  </tbody>\n",
       "</table>\n",
       "</div>"
      ],
      "text/plain": [
       "        법정동코드           법정동명 폐지여부\n",
       "0  1100000000          서울특별시   존재\n",
       "1  1111000000      서울특별시 종로구   존재\n",
       "2  1111010100  서울특별시 종로구 청운동   존재\n",
       "3  1111010200  서울특별시 종로구 신교동   존재\n",
       "4  1111010300  서울특별시 종로구 궁정동   존재"
      ]
     },
     "execution_count": 4,
     "metadata": {},
     "output_type": "execute_result"
    }
   ],
   "source": [
    "df_cd = df_cd.loc[df_cd[\"폐지여부\"] == \"존재\", :]\n",
    "df_cd.head()"
   ]
  },
  {
   "cell_type": "markdown",
   "metadata": {},
   "source": [
    "구 단위로 필터링하기 위해서 정규표현식(regular expression)을 사용한다. <br>\n",
    "다음 코드의 정규표현식(^.*?0{5}$)은 처음부터(^) 몇 글자가 있던 관계없고(.*?), 0이 다섯번(0{5}) 반복되는 패턴이 마지막(\\$)에 등장하는 자료를 잡아내기 위하여 사용되었다."
   ]
  },
  {
   "cell_type": "code",
   "execution_count": 5,
   "metadata": {},
   "outputs": [
    {
     "data": {
      "text/html": [
       "<div>\n",
       "<style scoped>\n",
       "    .dataframe tbody tr th:only-of-type {\n",
       "        vertical-align: middle;\n",
       "    }\n",
       "\n",
       "    .dataframe tbody tr th {\n",
       "        vertical-align: top;\n",
       "    }\n",
       "\n",
       "    .dataframe thead th {\n",
       "        text-align: right;\n",
       "    }\n",
       "</style>\n",
       "<table border=\"1\" class=\"dataframe\">\n",
       "  <thead>\n",
       "    <tr style=\"text-align: right;\">\n",
       "      <th></th>\n",
       "      <th>법정동코드</th>\n",
       "      <th>법정동명</th>\n",
       "      <th>폐지여부</th>\n",
       "    </tr>\n",
       "  </thead>\n",
       "  <tbody>\n",
       "    <tr>\n",
       "      <td>0</td>\n",
       "      <td>1100000000</td>\n",
       "      <td>서울특별시</td>\n",
       "      <td>존재</td>\n",
       "    </tr>\n",
       "    <tr>\n",
       "      <td>1</td>\n",
       "      <td>1111000000</td>\n",
       "      <td>서울특별시 종로구</td>\n",
       "      <td>존재</td>\n",
       "    </tr>\n",
       "    <tr>\n",
       "      <td>94</td>\n",
       "      <td>1114000000</td>\n",
       "      <td>서울특별시 중구</td>\n",
       "      <td>존재</td>\n",
       "    </tr>\n",
       "    <tr>\n",
       "      <td>179</td>\n",
       "      <td>1117000000</td>\n",
       "      <td>서울특별시 용산구</td>\n",
       "      <td>존재</td>\n",
       "    </tr>\n",
       "    <tr>\n",
       "      <td>229</td>\n",
       "      <td>1120000000</td>\n",
       "      <td>서울특별시 성동구</td>\n",
       "      <td>존재</td>\n",
       "    </tr>\n",
       "  </tbody>\n",
       "</table>\n",
       "</div>"
      ],
      "text/plain": [
       "          법정동코드       법정동명 폐지여부\n",
       "0    1100000000      서울특별시   존재\n",
       "1    1111000000  서울특별시 종로구   존재\n",
       "94   1114000000   서울특별시 중구   존재\n",
       "179  1117000000  서울특별시 용산구   존재\n",
       "229  1120000000  서울특별시 성동구   존재"
      ]
     },
     "execution_count": 5,
     "metadata": {},
     "output_type": "execute_result"
    }
   ],
   "source": [
    "df_cd_sub = df_cd.loc[df_cd[\"법정동코드\"].astype(\"str\").str.match(\"^.*?0{5}$\"), :]\n",
    "df_cd_sub.head()"
   ]
  },
  {
   "cell_type": "markdown",
   "metadata": {},
   "source": [
    "첫 다섯 글자를 뽑아내기 위해 str() 함수를 활용하여 숫자를 문자로 바꾸고, 다섯 번째 글자를 뽑아내는 코드(str(x)\\[:5\\])를 람다(lambda)함수로 작성하였다."
   ]
  },
  {
   "cell_type": "code",
   "execution_count": 6,
   "metadata": {},
   "outputs": [
    {
     "name": "stderr",
     "output_type": "stream",
     "text": [
      "/usr/local/lib/python3.6/dist-packages/pandas/core/indexing.py:494: SettingWithCopyWarning: \n",
      "A value is trying to be set on a copy of a slice from a DataFrame.\n",
      "Try using .loc[row_indexer,col_indexer] = value instead\n",
      "\n",
      "See the caveats in the documentation: http://pandas.pydata.org/pandas-docs/stable/user_guide/indexing.html#returning-a-view-versus-a-copy\n",
      "  self.obj[item] = s\n"
     ]
    },
    {
     "data": {
      "text/html": [
       "<div>\n",
       "<style scoped>\n",
       "    .dataframe tbody tr th:only-of-type {\n",
       "        vertical-align: middle;\n",
       "    }\n",
       "\n",
       "    .dataframe tbody tr th {\n",
       "        vertical-align: top;\n",
       "    }\n",
       "\n",
       "    .dataframe thead th {\n",
       "        text-align: right;\n",
       "    }\n",
       "</style>\n",
       "<table border=\"1\" class=\"dataframe\">\n",
       "  <thead>\n",
       "    <tr style=\"text-align: right;\">\n",
       "      <th></th>\n",
       "      <th>법정동코드</th>\n",
       "      <th>법정동명</th>\n",
       "      <th>폐지여부</th>\n",
       "    </tr>\n",
       "  </thead>\n",
       "  <tbody>\n",
       "    <tr>\n",
       "      <td>0</td>\n",
       "      <td>11000</td>\n",
       "      <td>서울특별시</td>\n",
       "      <td>존재</td>\n",
       "    </tr>\n",
       "    <tr>\n",
       "      <td>1</td>\n",
       "      <td>11110</td>\n",
       "      <td>서울특별시 종로구</td>\n",
       "      <td>존재</td>\n",
       "    </tr>\n",
       "  </tbody>\n",
       "</table>\n",
       "</div>"
      ],
      "text/plain": [
       "   법정동코드       법정동명 폐지여부\n",
       "0  11000      서울특별시   존재\n",
       "1  11110  서울특별시 종로구   존재"
      ]
     },
     "execution_count": 6,
     "metadata": {},
     "output_type": "execute_result"
    }
   ],
   "source": [
    "df_cd_sub.loc[:, \"법정동코드\"] = df_cd_sub.loc[:, \"법정동코드\"].apply(lambda x: str(x)[:5])\n",
    "df_cd_sub.head(2)"
   ]
  },
  {
   "cell_type": "markdown",
   "metadata": {},
   "source": [
    "예를 들어 인천이라는 글자가 들어간 법정동명을 뽑으려면 다음과 같이 작성한다."
   ]
  },
  {
   "cell_type": "code",
   "execution_count": 7,
   "metadata": {},
   "outputs": [
    {
     "data": {
      "text/html": [
       "<div>\n",
       "<style scoped>\n",
       "    .dataframe tbody tr th:only-of-type {\n",
       "        vertical-align: middle;\n",
       "    }\n",
       "\n",
       "    .dataframe tbody tr th {\n",
       "        vertical-align: top;\n",
       "    }\n",
       "\n",
       "    .dataframe thead th {\n",
       "        text-align: right;\n",
       "    }\n",
       "</style>\n",
       "<table border=\"1\" class=\"dataframe\">\n",
       "  <thead>\n",
       "    <tr style=\"text-align: right;\">\n",
       "      <th></th>\n",
       "      <th>법정동코드</th>\n",
       "      <th>법정동명</th>\n",
       "      <th>폐지여부</th>\n",
       "    </tr>\n",
       "  </thead>\n",
       "  <tbody>\n",
       "    <tr>\n",
       "      <td>3280</td>\n",
       "      <td>28000</td>\n",
       "      <td>인천광역시</td>\n",
       "      <td>존재</td>\n",
       "    </tr>\n",
       "    <tr>\n",
       "      <td>3281</td>\n",
       "      <td>28110</td>\n",
       "      <td>인천광역시 중구</td>\n",
       "      <td>존재</td>\n",
       "    </tr>\n",
       "    <tr>\n",
       "      <td>3334</td>\n",
       "      <td>28140</td>\n",
       "      <td>인천광역시 동구</td>\n",
       "      <td>존재</td>\n",
       "    </tr>\n",
       "    <tr>\n",
       "      <td>3355</td>\n",
       "      <td>28177</td>\n",
       "      <td>인천광역시 미추홀구</td>\n",
       "      <td>존재</td>\n",
       "    </tr>\n",
       "    <tr>\n",
       "      <td>3363</td>\n",
       "      <td>28185</td>\n",
       "      <td>인천광역시 연수구</td>\n",
       "      <td>존재</td>\n",
       "    </tr>\n",
       "    <tr>\n",
       "      <td>3370</td>\n",
       "      <td>28200</td>\n",
       "      <td>인천광역시 남동구</td>\n",
       "      <td>존재</td>\n",
       "    </tr>\n",
       "    <tr>\n",
       "      <td>3415</td>\n",
       "      <td>28237</td>\n",
       "      <td>인천광역시 부평구</td>\n",
       "      <td>존재</td>\n",
       "    </tr>\n",
       "    <tr>\n",
       "      <td>3429</td>\n",
       "      <td>28245</td>\n",
       "      <td>인천광역시 계양구</td>\n",
       "      <td>존재</td>\n",
       "    </tr>\n",
       "    <tr>\n",
       "      <td>3454</td>\n",
       "      <td>28260</td>\n",
       "      <td>인천광역시 서구</td>\n",
       "      <td>존재</td>\n",
       "    </tr>\n",
       "    <tr>\n",
       "      <td>3477</td>\n",
       "      <td>28710</td>\n",
       "      <td>인천광역시 강화군</td>\n",
       "      <td>존재</td>\n",
       "    </tr>\n",
       "    <tr>\n",
       "      <td>3587</td>\n",
       "      <td>28720</td>\n",
       "      <td>인천광역시 옹진군</td>\n",
       "      <td>존재</td>\n",
       "    </tr>\n",
       "  </tbody>\n",
       "</table>\n",
       "</div>"
      ],
      "text/plain": [
       "      법정동코드        법정동명 폐지여부\n",
       "3280  28000       인천광역시   존재\n",
       "3281  28110    인천광역시 중구   존재\n",
       "3334  28140    인천광역시 동구   존재\n",
       "3355  28177  인천광역시 미추홀구   존재\n",
       "3363  28185   인천광역시 연수구   존재\n",
       "3370  28200   인천광역시 남동구   존재\n",
       "3415  28237   인천광역시 부평구   존재\n",
       "3429  28245   인천광역시 계양구   존재\n",
       "3454  28260    인천광역시 서구   존재\n",
       "3477  28710   인천광역시 강화군   존재\n",
       "3587  28720   인천광역시 옹진군   존재"
      ]
     },
     "execution_count": 7,
     "metadata": {},
     "output_type": "execute_result"
    }
   ],
   "source": [
    "df_cd_sub.loc[df_cd_sub[\"법정동명\"].str.contains(\"인천\"), :]"
   ]
  },
  {
   "cell_type": "markdown",
   "metadata": {},
   "source": [
    "수집을 위해 URL을 다음과 같이 구성한다.\n",
    "* year_month: 조회 년월\n",
    "* LAWD_CD: 법정동 코드 번호 다섯자리\n",
    "* key: 발급받은 API key\n",
    "* url: 원 주소. 중괄호 내부에는 변수에 할당된 값이 순서대로 입력된다."
   ]
  },
  {
   "cell_type": "code",
   "execution_count": 8,
   "metadata": {},
   "outputs": [],
   "source": [
    "year_month = \"201907\"\n",
    "LAWD_CD = \"46780\"\n",
    "key = \"2jphw%2BFyE88rPf0gz5nICc9SyRbsIbYjD0VsGUiHplpkCUE%2FCQ02IP2vjacyoHETquky1enBlKXrTjpH%2BTsIZw%3D%3D\"\n",
    "url = \"http://openapi.molit.go.kr/OpenAPI_ToolInstallPackage/service/rest/RTMSOBJSvc/getRTMSDataSvcAptTradeDev?LAWD_CD={0}&DEAL_YMD={1}&serviceKey={2}\"\n",
    "txt = requests.get(url.format(LAWD_CD, year_month, key))"
   ]
  },
  {
   "cell_type": "markdown",
   "metadata": {},
   "source": [
    "requests의 get() 함수로 수집한 자료(txt 객체)를 BeautifulSoup의 함수를 사용하여 정제 및 필터링"
   ]
  },
  {
   "cell_type": "code",
   "execution_count": 9,
   "metadata": {},
   "outputs": [],
   "source": [
    "xmlsoup = BeautifulSoup(txt.text, 'lxml-xml')\n",
    "info_xml = xmlsoup.findAll(\"item\")"
   ]
  },
  {
   "cell_type": "markdown",
   "metadata": {},
   "source": [
    "첫 번째 내역 확인"
   ]
  },
  {
   "cell_type": "code",
   "execution_count": 10,
   "metadata": {},
   "outputs": [
    {
     "data": {
      "text/plain": [
       "<item><거래금액>     5,000</거래금액><건축년도>1991</건축년도><년>2019</년><도로명>태평길</도로명><도로명건물본번호코드>00004</도로명건물본번호코드><도로명건물부번호코드>00000</도로명건물부번호코드><도로명시군구코드>46780</도로명시군구코드><도로명일련번호코드>01</도로명일련번호코드><도로명지상지하코드>0</도로명지상지하코드><도로명코드>4670424</도로명코드><법정동>보성읍 보성리</법정동><법정동본번코드>0675</법정동본번코드><법정동부번코드>0000</법정동부번코드><법정동시군구코드>46780</법정동시군구코드><법정동읍면동코드>25021</법정동읍면동코드><법정동지번코드>1</법정동지번코드><아파트>보성</아파트><월>7</월><일>1</일><일련번호>46780-1</일련번호><전용면적>77.53</전용면적><지번>675</지번><지역코드>46780</지역코드><층>5</층></item>"
      ]
     },
     "execution_count": 10,
     "metadata": {},
     "output_type": "execute_result"
    }
   ],
   "source": [
    "info_xml[0]"
   ]
  },
  {
   "cell_type": "markdown",
   "metadata": {},
   "source": [
    "각 거래를 정제하여 Pandas의 데이터프레임으로 만드는 과정"
   ]
  },
  {
   "cell_type": "code",
   "execution_count": 11,
   "metadata": {},
   "outputs": [],
   "source": [
    "transaction = pd.DataFrame()\n",
    "for t in info_xml:\n",
    "    year  = t.find(\"년\").text\n",
    "    month = t.find(\"월\").text\n",
    "    day   = t.find(\"일\").text\n",
    "    built_year = t.find(\"건축년도\").text\n",
    "    dong = t.find(\"법정동\").text\n",
    "    apt_name = t.find(\"아파트\").text\n",
    "    size     = t.find(\"전용면적\").text\n",
    "    \n",
    "    try:\n",
    "        jibun = t.find(\"지번\").text\n",
    "    except:\n",
    "        jibun = \"\"\n",
    "\n",
    "    ji_code = t.find(\"지역코드\").text\n",
    "    floor   = t.find(\"층\").text\n",
    "    temp = pd.DataFrame(([[year, month, day, built_year, dong, apt_name, size, jibun, ji_code, floor]]), \n",
    "                        columns=[\"year\", \"month\", \"day\", \"build_year\", \"dong\", \"apt_name\", \"size\", \"jibun\", \"ji_code\", \"floor\"])\n",
    "    transaction = pd.concat([transaction, temp])\n",
    "\n",
    "transaction = transaction.reset_index(drop = True)"
   ]
  },
  {
   "cell_type": "code",
   "execution_count": 12,
   "metadata": {},
   "outputs": [
    {
     "data": {
      "text/html": [
       "<div>\n",
       "<style scoped>\n",
       "    .dataframe tbody tr th:only-of-type {\n",
       "        vertical-align: middle;\n",
       "    }\n",
       "\n",
       "    .dataframe tbody tr th {\n",
       "        vertical-align: top;\n",
       "    }\n",
       "\n",
       "    .dataframe thead th {\n",
       "        text-align: right;\n",
       "    }\n",
       "</style>\n",
       "<table border=\"1\" class=\"dataframe\">\n",
       "  <thead>\n",
       "    <tr style=\"text-align: right;\">\n",
       "      <th></th>\n",
       "      <th>year</th>\n",
       "      <th>month</th>\n",
       "      <th>day</th>\n",
       "      <th>build_year</th>\n",
       "      <th>dong</th>\n",
       "      <th>apt_name</th>\n",
       "      <th>size</th>\n",
       "      <th>jibun</th>\n",
       "      <th>ji_code</th>\n",
       "      <th>floor</th>\n",
       "    </tr>\n",
       "  </thead>\n",
       "  <tbody>\n",
       "    <tr>\n",
       "      <td>0</td>\n",
       "      <td>2019</td>\n",
       "      <td>7</td>\n",
       "      <td>1</td>\n",
       "      <td>1991</td>\n",
       "      <td>보성읍 보성리</td>\n",
       "      <td>보성</td>\n",
       "      <td>77.53</td>\n",
       "      <td>675</td>\n",
       "      <td>46780</td>\n",
       "      <td>5</td>\n",
       "    </tr>\n",
       "    <tr>\n",
       "      <td>1</td>\n",
       "      <td>2019</td>\n",
       "      <td>7</td>\n",
       "      <td>18</td>\n",
       "      <td>2008</td>\n",
       "      <td>보성읍 보성리</td>\n",
       "      <td>유화하이빌</td>\n",
       "      <td>84.74</td>\n",
       "      <td>688</td>\n",
       "      <td>46780</td>\n",
       "      <td>2</td>\n",
       "    </tr>\n",
       "    <tr>\n",
       "      <td>2</td>\n",
       "      <td>2019</td>\n",
       "      <td>7</td>\n",
       "      <td>22</td>\n",
       "      <td>2016</td>\n",
       "      <td>보성읍 보성리</td>\n",
       "      <td>보성센트럴뷰</td>\n",
       "      <td>84.8513</td>\n",
       "      <td>93-1</td>\n",
       "      <td>46780</td>\n",
       "      <td>2</td>\n",
       "    </tr>\n",
       "    <tr>\n",
       "      <td>3</td>\n",
       "      <td>2019</td>\n",
       "      <td>7</td>\n",
       "      <td>1</td>\n",
       "      <td>1999</td>\n",
       "      <td>보성읍 우산리</td>\n",
       "      <td>우산주공</td>\n",
       "      <td>49.85</td>\n",
       "      <td>631-1</td>\n",
       "      <td>46780</td>\n",
       "      <td>2</td>\n",
       "    </tr>\n",
       "    <tr>\n",
       "      <td>4</td>\n",
       "      <td>2019</td>\n",
       "      <td>7</td>\n",
       "      <td>3</td>\n",
       "      <td>1999</td>\n",
       "      <td>보성읍 우산리</td>\n",
       "      <td>우산주공</td>\n",
       "      <td>49.85</td>\n",
       "      <td>631-1</td>\n",
       "      <td>46780</td>\n",
       "      <td>8</td>\n",
       "    </tr>\n",
       "    <tr>\n",
       "      <td>5</td>\n",
       "      <td>2019</td>\n",
       "      <td>7</td>\n",
       "      <td>12</td>\n",
       "      <td>1999</td>\n",
       "      <td>보성읍 우산리</td>\n",
       "      <td>우산주공</td>\n",
       "      <td>49.85</td>\n",
       "      <td>631-1</td>\n",
       "      <td>46780</td>\n",
       "      <td>8</td>\n",
       "    </tr>\n",
       "    <tr>\n",
       "      <td>6</td>\n",
       "      <td>2019</td>\n",
       "      <td>7</td>\n",
       "      <td>3</td>\n",
       "      <td>1990</td>\n",
       "      <td>벌교읍 회정리</td>\n",
       "      <td>성진</td>\n",
       "      <td>79.85</td>\n",
       "      <td>58</td>\n",
       "      <td>46780</td>\n",
       "      <td>1</td>\n",
       "    </tr>\n",
       "    <tr>\n",
       "      <td>7</td>\n",
       "      <td>2019</td>\n",
       "      <td>7</td>\n",
       "      <td>4</td>\n",
       "      <td>1999</td>\n",
       "      <td>벌교읍 회정리</td>\n",
       "      <td>장미</td>\n",
       "      <td>59.37</td>\n",
       "      <td>486</td>\n",
       "      <td>46780</td>\n",
       "      <td>12</td>\n",
       "    </tr>\n",
       "  </tbody>\n",
       "</table>\n",
       "</div>"
      ],
      "text/plain": [
       "   year month day build_year     dong apt_name     size  jibun ji_code floor\n",
       "0  2019     7   1       1991  보성읍 보성리       보성    77.53    675   46780     5\n",
       "1  2019     7  18       2008  보성읍 보성리    유화하이빌    84.74    688   46780     2\n",
       "2  2019     7  22       2016  보성읍 보성리   보성센트럴뷰  84.8513   93-1   46780     2\n",
       "3  2019     7   1       1999  보성읍 우산리     우산주공    49.85  631-1   46780     2\n",
       "4  2019     7   3       1999  보성읍 우산리     우산주공    49.85  631-1   46780     8\n",
       "5  2019     7  12       1999  보성읍 우산리     우산주공    49.85  631-1   46780     8\n",
       "6  2019     7   3       1990  벌교읍 회정리       성진    79.85     58   46780     1\n",
       "7  2019     7   4       1999  벌교읍 회정리       장미    59.37    486   46780    12"
      ]
     },
     "execution_count": 12,
     "metadata": {},
     "output_type": "execute_result"
    }
   ],
   "source": [
    "transaction"
   ]
  },
  {
   "cell_type": "code",
   "execution_count": null,
   "metadata": {},
   "outputs": [],
   "source": []
  }
 ],
 "metadata": {
  "kernelspec": {
   "display_name": "Python 3",
   "language": "python",
   "name": "python3"
  },
  "language_info": {
   "codemirror_mode": {
    "name": "ipython",
    "version": 3
   },
   "file_extension": ".py",
   "mimetype": "text/x-python",
   "name": "python",
   "nbconvert_exporter": "python",
   "pygments_lexer": "ipython3",
   "version": "3.7.3"
  }
 },
 "nbformat": 4,
 "nbformat_minor": 2
}
